{
 "cells": [
  {
   "cell_type": "code",
   "execution_count": 2,
   "metadata": {},
   "outputs": [
    {
     "name": "stdout",
     "output_type": "stream",
     "text": [
      "[[-0.5  0.   0.5 ...  0.   0.   0. ]\n",
      " [ 0.  -0.5  0.  ...  0.   0.   0. ]\n",
      " [ 0.   0.  -0.5 ...  0.   0.   0. ]\n",
      " ...\n",
      " [ 0.   0.   0.  ...  0.5  0.   0. ]\n",
      " [ 0.   0.   0.  ...  0.   0.5  0. ]\n",
      " [ 0.   0.   0.  ... -0.5  0.   0.5]]\n",
      "[[-1.  1.  0. ...  0.  0.  0.]\n",
      " [ 0. -1.  1. ...  0.  0.  0.]\n",
      " [ 0.  0. -1. ...  0.  0.  0.]\n",
      " ...\n",
      " [ 0.  0.  0. ...  0.  0.  0.]\n",
      " [ 0.  0.  0. ...  1.  0.  0.]\n",
      " [ 0.  0.  0. ... -1.  1.  0.]]\n"
     ]
    }
   ],
   "source": [
    "# Let's try in Python\n",
    "import numpy as np\n",
    "\n",
    "points = 100\n",
    "\n",
    "# This function constructs the convection matrix for central difference\n",
    "def construct_conv_matrix_central_diff(points):\n",
    "    before = 1\n",
    "    after = 1\n",
    "    A = np.zeros(shape = (points, points+before+after))\n",
    "    a = -0.5\n",
    "    b = 0.\n",
    "    c = 0.5\n",
    "\n",
    "    for i in range(points):\n",
    "        for j in range(points+before+after):\n",
    "            if i + before == j:\n",
    "                A[i,j] = b\n",
    "                if j + 1 < points + before + after:\n",
    "                    A[i,j+1] = c\n",
    "                if j - 1 >= 0 :\n",
    "                    A[i,j-1] = a\n",
    "    return A\n",
    "\n",
    "# This function constructs the convection matrix for 1st order upwind\n",
    "def construct_conv_matrix_upwind(points):\n",
    "    before = 1\n",
    "    after = 1\n",
    "    A = np.zeros(shape = (points, points + before + after))\n",
    "    a = -1.\n",
    "    b = 1.\n",
    "    c = 0.\n",
    "\n",
    "    for i in range(points):\n",
    "        for j in range(points + before + after):\n",
    "            if i + before == j:\n",
    "                A[i,j] = b\n",
    "                if j + 1 < points + before + after:\n",
    "                    A[i,j+1] = c\n",
    "                if j - 1 >= 0 :\n",
    "                    A[i,j-1] = a\n",
    "    return A\n",
    "\n",
    "A = construct_conv_matrix_central_diff(points)\n",
    "A_2 = construct_conv_matrix_upwind(points)\n",
    "\n",
    "print(A)\n",
    "print(A_2)"
   ]
  },
  {
   "cell_type": "code",
   "execution_count": 3,
   "metadata": {},
   "outputs": [
    {
     "name": "stdout",
     "output_type": "stream",
     "text": [
      "[[-0.5  0.   0.5 ...  0.   0.   0. ]\n",
      " [ 0.  -0.5  0.  ...  0.   0.   0. ]\n",
      " [ 0.   0.  -0.5 ...  0.   0.   0. ]\n",
      " ...\n",
      " [ 0.   0.   0.  ...  0.5  0.   0. ]\n",
      " [ 0.   0.   0.  ...  0.   0.5  0. ]\n",
      " [ 0.   0.   0.  ... -0.5  0.   0.5]]\n"
     ]
    },
    {
     "data": {
      "text/plain": [
       "(100, 102)"
      ]
     },
     "execution_count": 3,
     "metadata": {},
     "output_type": "execute_result"
    }
   ],
   "source": [
    "# This function constructs the matrix for the 2nd derivative\n",
    "def construct_diff_matrix_central_diff(points):\n",
    "    before = 1\n",
    "    after = 1\n",
    "    B = np.zeros(shape = (points, points+before+after))\n",
    "    a = 1.\n",
    "    b = -2.\n",
    "    c = 1.\n",
    "\n",
    "    for i in range(points):\n",
    "        for j in range(points+before+after):\n",
    "            if i + before == j:\n",
    "                B[i,j] = b\n",
    "                if j + 1 < points+before+after:\n",
    "                    B[i,j+1] = c\n",
    "                if j - 1 >= 0 :\n",
    "                    B[i,j-1] = a\n",
    "    \n",
    "    return B\n",
    "\n",
    "B = construct_conv_matrix_central_diff(points)\n",
    "print(B)\n",
    "B.shape"
   ]
  },
  {
   "cell_type": "code",
   "execution_count": 9,
   "metadata": {},
   "outputs": [
    {
     "data": {
      "image/png": "[encoded data removed]",
      "text/plain": [
       "<Figure size 432x288 with 1 Axes>"
      ]
     },
     "metadata": {
      "needs_background": "light"
     },
     "output_type": "display_data"
    }
   ],
   "source": [
    "# we are going to use the solve function from the scipy.linalg package\n",
    "from scipy.linalg import solve\n",
    "\n",
    "y0 = 1.0\n",
    "\n",
    "# avoid the fencepost error!\n",
    "dx = 1./(points-1)\n",
    "k = 10.\n",
    "u = 4.\n",
    "D = 5.\n",
    "\n",
    "def construct_linear_matrix(u, D, k, y0, points, dx, method = 1):\n",
    "    # method = 1: central difference\n",
    "    # method = 2: 1st order upwind\n",
    "    \n",
    "    if method != 1:\n",
    "        A = construct_conv_matrix_upwind(points)\n",
    "    else:\n",
    "        A = construct_conv_matrix_central_diff(points)\n",
    "        \n",
    "    B = construct_diff_matrix_central_diff(points)\n",
    "    \n",
    "    matrix = -u*A/dx + D*B/dx**2\n",
    "    rates = np.eye(points + 2) * k\n",
    "    rates[0,0] = 0.0\n",
    "    rates[-1,-1] = 0.0\n",
    "    first_row = np.zeros(shape = (points + 2))\n",
    "    last_row = np.zeros(shape = (points + 2))\n",
    "    \n",
    "    if method != 1:\n",
    "        first_row[0] = 1.\n",
    "        first_row[1] = dx*u/D - 1.\n",
    "    else:\n",
    "        first_row[0] = 1.\n",
    "        first_row[1] = 2.*dx*u/D\n",
    "        first_row[2] = -1.\n",
    "        \n",
    "    last_row[-3] = -1.\n",
    "    last_row[-1] = 1.\n",
    "    matrix = np.vstack((first_row, matrix, last_row))\n",
    "    matrix = matrix - rates\n",
    "    # vector on the right hand side of the equation\n",
    "    rhs = np.zeros(shape = (points + 2))\n",
    "    \n",
    "    if method != 1:\n",
    "        rhs[0] = dx*u/D * y0\n",
    "    else:\n",
    "        rhs[0] = 2.*dx*u/D * y0\n",
    "    \n",
    "    return matrix, rhs\n",
    "\n",
    "# Let's plot solutions for two different Ds\n",
    "k = 10.\n",
    "u = 4.\n",
    "D = 5.\n",
    "matrix, rhs = construct_linear_matrix(u, D, k, y0, points, dx)\n",
    "C_lin = solve(matrix, rhs)\n",
    "C_fin = C_lin[1:-1]\n",
    "\n",
    "k = 10.\n",
    "u = 4.\n",
    "D = 1.\n",
    "matrix, rhs = construct_linear_matrix(u, D, k, y0, points, dx)\n",
    "C_lin = solve(matrix, rhs)\n",
    "C_fin_1 = C_lin[1:-1]\n",
    "\n",
    "# A small function to help plot the results\n",
    "def plot_profiles(concs, points, legend):\n",
    "    x = np.linspace(0, 1, num = points)\n",
    "    for C in concs:\n",
    "        plt.plot(x, C)\n",
    "    plt.xlim((0., 1.0))\n",
    "    plt.ylim((0., 1.0))\n",
    "    plt.xlabel(\"z\")\n",
    "    plt.ylabel(\"C\")\n",
    "    plt.legend(legend)\n",
    "    \n",
    "plot_profiles([C_fin, C_fin_1], points, [\"D = 5\", \"D = 1\"])"
   ]
  }
 ],
 "metadata": {
  "kernelspec": {
   "display_name": "Python 3",
   "language": "python",
   "name": "python3"
  },
  "language_info": {
   "codemirror_mode": {
    "name": "ipython",
    "version": 3
   },
   "file_extension": ".py",
   "mimetype": "text/x-python",
   "name": "python",
   "nbconvert_exporter": "python",
   "pygments_lexer": "ipython3",
   "version": "3.7.3"
  }
 },
 "nbformat": 4,
 "nbformat_minor": 4
}
